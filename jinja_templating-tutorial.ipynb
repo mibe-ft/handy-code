{
 "cells": [
  {
   "cell_type": "code",
   "execution_count": 1,
   "metadata": {},
   "outputs": [],
   "source": [
    "from jinja2 import Template\n",
    "import pandas as pd"
   ]
  },
  {
   "cell_type": "code",
   "execution_count": 10,
   "metadata": {},
   "outputs": [],
   "source": [
    "example_1 = \"\"\"\n",
    "SELECT \n",
    "conversion_type\n",
    ", COUNT(conversion_visit_id) AS conversion_visit_count\n",
    "FROM `ft-bi-team.BI_Layer.conversion_visit` \n",
    "WHERE conversion_date >= '{{start_date}}'\n",
    "AND conversion_date < '{{end_date}}'\n",
    "GROUP BY 1\n",
    "\"\"\""
   ]
  },
  {
   "cell_type": "code",
   "execution_count": 17,
   "metadata": {
    "scrolled": true
   },
   "outputs": [
    {
     "name": "stdout",
     "output_type": "stream",
     "text": [
      "\n",
      "SELECT \n",
      "conversion_type\n",
      ", COUNT(conversion_visit_id) AS conversion_visit_count\n",
      "FROM `ft-bi-team.BI_Layer.conversion_visit` \n",
      "WHERE conversion_date >= '2021-05-01'\n",
      "AND conversion_date < '2021-06-01'\n",
      "GROUP BY 1\n"
     ]
    }
   ],
   "source": [
    "print(Template(example_1).render(start_date = '2021-05-01', end_date = '2021-06-01'))"
   ]
  },
  {
   "cell_type": "code",
   "execution_count": 37,
   "metadata": {},
   "outputs": [],
   "source": [
    "example_2 = \"\"\"\n",
    "SELECT \n",
    "    EXTRACT(DATE FROM conversion_date) AS date_,\n",
    "    {% for source in types -%}\n",
    "    SUM(CASE WHEN visit_traffic_source_type = '{{source}}' THEN 1 END) AS count_{{source}}\n",
    "    {%- if not loop.last -%}\n",
    "        , \n",
    "    {% endif -%}\n",
    "    {%- endfor %}\n",
    "FROM `ft-bi-team.BI_Layer.conversion_visit`\n",
    "WHERE conversion_date >= '{{start_date}}'\n",
    "AND conversion_date < '{{end_date}}'\n",
    "GROUP BY 1\n",
    "\"\"\""
   ]
  },
  {
   "cell_type": "code",
   "execution_count": 38,
   "metadata": {},
   "outputs": [
    {
     "ename": "TypeError",
     "evalue": "'start_date' is an invalid keyword argument for print()",
     "output_type": "error",
     "traceback": [
      "\u001b[0;31m---------------------------------------------------------------------------\u001b[0m",
      "\u001b[0;31mTypeError\u001b[0m                                 Traceback (most recent call last)",
      "\u001b[0;32m<ipython-input-38-b0b80ae2e3cc>\u001b[0m in \u001b[0;36m<module>\u001b[0;34m\u001b[0m\n\u001b[0;32m----> 1\u001b[0;31m print(Template(example_2).render(types = ['internal', 'direct', 'search'])\n\u001b[0m\u001b[1;32m      2\u001b[0m       , start_date = '2021-05-01', end_date = '2021-05-11')\n",
      "\u001b[0;31mTypeError\u001b[0m: 'start_date' is an invalid keyword argument for print()"
     ]
    }
   ],
   "source": [
    "print(Template(example_2).render(types = ['internal', 'direct', 'search'])\n",
    "      , start_date = '2021-05-01', end_date = '2021-05-11')"
   ]
  },
  {
   "cell_type": "code",
   "execution_count": 2,
   "metadata": {},
   "outputs": [],
   "source": [
    "def create_tuples_from_csv_file(file):\n",
    "    df = pd.read_csv(file)\n",
    "    content_formatted = list(df.itertuples(index=False, name=None))\n",
    "    return content_formatted"
   ]
  },
  {
   "cell_type": "code",
   "execution_count": 3,
   "metadata": {},
   "outputs": [],
   "source": [
    "matrix = create_tuples_from_csv_file('stepup_matrix.csv')"
   ]
  },
  {
   "cell_type": "code",
   "execution_count": 4,
   "metadata": {
    "scrolled": true
   },
   "outputs": [],
   "source": [
    "with open('template.sql') as f:\n",
    "    sql = f.read()\n",
    "\n",
    "rendered_sql = Template(sql).render(step_up_matrix=matrix)"
   ]
  },
  {
   "cell_type": "code",
   "execution_count": 5,
   "metadata": {},
   "outputs": [],
   "source": [
    "# print(rendered_sql)"
   ]
  },
  {
   "cell_type": "code",
   "execution_count": 6,
   "metadata": {},
   "outputs": [],
   "source": [
    "with open('WIP_jinja.sql', 'w') as f:\n",
    "    f.write(rendered_sql)\n",
    "    #TODO change extension to sql.j2"
   ]
  },
  {
   "cell_type": "code",
   "execution_count": null,
   "metadata": {},
   "outputs": [],
   "source": []
  }
 ],
 "metadata": {
  "kernelspec": {
   "display_name": "Python 3",
   "language": "python",
   "name": "python3"
  },
  "language_info": {
   "codemirror_mode": {
    "name": "ipython",
    "version": 3
   },
   "file_extension": ".py",
   "mimetype": "text/x-python",
   "name": "python",
   "nbconvert_exporter": "python",
   "pygments_lexer": "ipython3",
   "version": "3.8.5"
  }
 },
 "nbformat": 4,
 "nbformat_minor": 4
}
