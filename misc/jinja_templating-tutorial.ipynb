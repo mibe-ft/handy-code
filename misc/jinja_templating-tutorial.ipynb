{
 "cells": [
  {
   "cell_type": "code",
   "execution_count": 1,
   "metadata": {},
   "outputs": [],
   "source": [
    "from jinja2 import Template\n",
    "import pandas as pd"
   ]
  },
  {
   "cell_type": "code",
   "execution_count": 42,
   "metadata": {},
   "outputs": [],
   "source": [
    "example_1 = \"\"\"\n",
    "SELECT \n",
    "    conversion_type,\n",
    "    COUNT(conversion_visit_id) AS conversion_visit_count\n",
    "FROM `ft-bi-team.BI_Layer.conversion_visit` \n",
    "WHERE conversion_date >= '{{start_date}}'\n",
    "AND conversion_date < '{{end_date}}'\n",
    "GROUP BY 1\n",
    "\"\"\""
   ]
  },
  {
   "cell_type": "code",
   "execution_count": 43,
   "metadata": {
    "scrolled": true
   },
   "outputs": [
    {
     "name": "stdout",
     "output_type": "stream",
     "text": [
      "\n",
      "SELECT \n",
      "    conversion_type,\n",
      "    COUNT(conversion_visit_id) AS conversion_visit_count\n",
      "FROM `ft-bi-team.BI_Layer.conversion_visit` \n",
      "WHERE conversion_date >= '2021-05-01'\n",
      "AND conversion_date < '2021-06-01'\n",
      "GROUP BY 1\n"
     ]
    }
   ],
   "source": [
    "print(Template(example_1).render(start_date = '2021-05-01', end_date = '2021-06-01'))"
   ]
  },
  {
   "cell_type": "code",
   "execution_count": 37,
   "metadata": {},
   "outputs": [],
   "source": [
    "example_2 = \"\"\"\n",
    "SELECT \n",
    "    EXTRACT(DATE FROM conversion_date) AS date_,\n",
    "    {% for source in types -%}\n",
    "    SUM(CASE WHEN visit_traffic_source_type = '{{source}}' THEN 1 END) AS count_{{source}}\n",
    "    {%- if not loop.last -%}\n",
    "        , \n",
    "    {% endif -%}\n",
    "    {%- endfor %}\n",
    "FROM `ft-bi-team.BI_Layer.conversion_visit`\n",
    "WHERE conversion_date >= '{{start_date}}'\n",
    "AND conversion_date < '{{end_date}}'\n",
    "GROUP BY 1\n",
    "\"\"\""
   ]
  },
  {
   "cell_type": "code",
   "execution_count": 39,
   "metadata": {},
   "outputs": [
    {
     "name": "stdout",
     "output_type": "stream",
     "text": [
      "\n",
      "SELECT \n",
      "    EXTRACT(DATE FROM conversion_date) AS date_,\n",
      "    SUM(CASE WHEN visit_traffic_source_type = 'internal' THEN 1 END) AS count_internal, \n",
      "    SUM(CASE WHEN visit_traffic_source_type = 'direct' THEN 1 END) AS count_direct, \n",
      "    SUM(CASE WHEN visit_traffic_source_type = 'search' THEN 1 END) AS count_search\n",
      "FROM `ft-bi-team.BI_Layer.conversion_visit`\n",
      "WHERE conversion_date >= '2021-05-01'\n",
      "AND conversion_date < '2021-05-11'\n",
      "GROUP BY 1\n"
     ]
    }
   ],
   "source": [
    "print(Template(example_2).render(types = ['internal', 'direct', 'search']\n",
    "      , start_date = '2021-05-01', end_date = '2021-05-11'))"
   ]
  }
 ],
 "metadata": {
  "kernelspec": {
   "display_name": "Python 3",
   "language": "python",
   "name": "python3"
  },
  "language_info": {
   "codemirror_mode": {
    "name": "ipython",
    "version": 3
   },
   "file_extension": ".py",
   "mimetype": "text/x-python",
   "name": "python",
   "nbconvert_exporter": "python",
   "pygments_lexer": "ipython3",
   "version": "3.8.5"
  }
 },
 "nbformat": 4,
 "nbformat_minor": 4
}
