{
 "cells": [
  {
   "cell_type": "code",
   "execution_count": 1,
   "metadata": {},
   "outputs": [],
   "source": [
    "from jinja2 import Template"
   ]
  },
  {
   "cell_type": "code",
   "execution_count": 2,
   "metadata": {},
   "outputs": [],
   "source": [
    "file_adjusted_leadsource = 'adjusted_leadsource.txt'"
   ]
  },
  {
   "cell_type": "code",
   "execution_count": 3,
   "metadata": {},
   "outputs": [],
   "source": [
    "with open(file_adjusted_leadsource) as f:\n",
    "    content = f.readlines()"
   ]
  },
  {
   "cell_type": "code",
   "execution_count": 4,
   "metadata": {},
   "outputs": [],
   "source": [
    "content_formatted = []\n",
    "\n",
    "for line in content:\n",
    "#     remove new line\n",
    "    new_line = line.split(\"\\n\")\n",
    "    new_line.pop(-1)\n",
    "\n",
    "    for item in new_line:\n",
    "#         remove apostrophes and split by commas into two items\n",
    "       content_formatted.append(tuple([a.replace(\"'\",\"\") for a in item.split(\",\")]))"
   ]
  },
  {
   "cell_type": "code",
   "execution_count": 5,
   "metadata": {
    "scrolled": true
   },
   "outputs": [],
   "source": [
    "sql = \"\"\"\n",
    "SELECT\n",
    "      sf_log.lead_id__c  as id\n",
    "    , sf_log.\"name\" \n",
    "    , sf_log.createddate \n",
    "    , sf_log.lead_id__c AS lead_id\n",
    "    , sf_leads.leadsource AS original_lead_source\n",
    "    , CASE \n",
    "    {%- for k,v in leadsource_types %}\n",
    "        WHEN sf_leads.leadsource::text = '{{k}}'::character varying::text THEN '{{v}}'::character varying\n",
    "    {%- endfor %} \n",
    "        ELSE 'Unknown' END AS adjusted_leadsource \n",
    "    --, COUNT(leadsource) AS count_\n",
    "    , sf_leads.industry_sector AS lead_industry_sector -- d\n",
    "    , sf_leads.segment_id AS salesforce_lead_segment_id --d\n",
    "    , sf_cpseg.marketing_campaign__r_name AS salesforce_lead_segment_id_name --de\n",
    "    , sf_leads.spoor_id AS lead_spoor_id --d\n",
    "    , sf_leads.createdbyid -- d\n",
    "    , sf_leads.ownerid AS lead_owner_id --d\n",
    "    , (sf_users.firstname::text || ' '::character varying::text) || sf_users.lastname::text AS lead_owner_name --e \n",
    "    , sf_users.team AS lead_owner_team --e\n",
    "    , dm_country.b2b_sales_region AS lead_region --r\n",
    "    , dm_country.b2b_sales_subregion AS lead_subregion --r\n",
    "    , sf_leads.country AS lead_country --d\n",
    "    , sf_leads.gclid AS lead_gclid --d\n",
    "    , sf_leads.cpccampaign AS lead_cpc --d\n",
    "    , sf_log.opportunity__c AS oppo_id --s --line 6342 -- opportunity__c 3277\n",
    "    , sf_opps.ownerid AS oppo_owner_id --c\n",
    "    , (sf_users.firstname::text || ' '::character varying::text) || sf_users.lastname::text AS oppo_owner_name --ee\n",
    "    , sf_users.team AS oppo_owner_team --ee\n",
    "    , sf_opps.currencyisocode --x\n",
    "    , sf_opps.amount --x\n",
    "    , x.fxrate --x\n",
    "    , CASE WHEN sf_opps.currencyisocode::text = 'GBP'::character varying::text THEN sf_opps.amount\n",
    "            ELSE sf_opps.amount / x.fxrate\n",
    "            END AS oppo_amount_gbp --\t, vo.gbpamount oppo_amount_gbp --vo TODO doesn't populate\n",
    "    , sf_opps.closed_lost_reason AS oppo_closed_lost_reason --c\n",
    "    , sf_opps.closedate AS oppo_closed_date --c\n",
    "    , sf_opps.\"type\" AS oppo_product_name --c\n",
    "    , CASE WHEN sf_opps.currencyisocode::text = 'GBP'::character varying::text THEN sf_opps.amount\n",
    "            ELSE sf_opps.amount / x.fxrate\n",
    "            END AS contract_amount_gbp --\t, contract_amount_gbp --vc\n",
    "    , sf_contracts.startdate AS contract_start_date --h\n",
    "    , sf_contracts.total_core_readers AS contract_total_core_readers --h\n",
    "    , sf_contracts.total_licenced_readers AS contract_total_licenced_readers --h\n",
    "    , sf_contracts.licencetype AS contract_licence_type --h\n",
    "    , sf_contracts.licencee_name AS contract_licence_name --h\n",
    "    , sf_contracts.licence_solution AS contract_licence_solution --h\n",
    "    , sf_contracts.\"type\" AS contract_type --h\n",
    "    , sf_contracts.ownerid AS contract_owner_id --h\n",
    "    , (sf_users.firstname::text || ' '::character varying::text) || sf_users.lastname::text AS contract_owner_name --f\n",
    "    , sf_users.team AS contract_owner_team --f\n",
    "    , sf_contracts.client_type  --h\n",
    "    , sf_contracts.contractnumber --h\n",
    "    , sf_contracts.contractnumber_c AS sf_contract_number --h\n",
    "    , sf_leads.spoor_id --d line 6551\n",
    "    , v.campaign_id AS visit_segment_id --v.campaign_id 6587\n",
    "    , sf_cpseg.marketing_campaign__r_name::text AS visit_marketing_campaign_name --cs.marketing_campaign__r_name\n",
    "FROM ftsfdb.view_sfdc_stage_log sf_log \n",
    "LEFT JOIN ftsfdb.view_sfdc_leads sf_leads ON sf_log.lead_id__c = sf_leads.id\n",
    "LEFT JOIN ftsfdb.view_sfdc_campaign_segments sf_cpseg ON sf_leads.segment_id::text = sf_cpseg.segmentid__c::text\n",
    "LEFT JOIN ftsfdb.view_sfdc_users sf_users ON sf_leads.ownerid::text = sf_users.id::text\n",
    "LEFT JOIN dwabstraction.dim_country_latest dm_country ON lower(dm_country.country_name::text) = lower(sf_leads.country::text)\n",
    "LEFT JOIN ftsfdb.view_sfdc_opportunities sf_opps ON sf_opps.id::text = sf_log.opportunity__c::text\n",
    "LEFT JOIN ftsfdb.view_sfdc_contracts sf_contracts ON sf_opps.accountid::text = sf_contracts.accountid::text\n",
    "LEFT JOIN dwabstraction.dn_currencyexchangerate x ON x.fromcurrency_code = sf_opps.currencyisocode::character(3) \n",
    "\t\t\t\t\t\t\t\t\t\t\t\t  AND x.fxyear = \"date_part\"('year'::character varying::text, sf_contracts.createddate) \n",
    "LEFT JOIN biteam.conversion_visit c ON sf_leads.spoor_id::text = c.device_spoor_id::text\n",
    "\t\t\t\t\t\t\t\t\tAND c.system_action::text = 'b2b-confirmed'::character varying::text\n",
    "LEFT JOIN ftspoordb.visits v ON c.conversion_visit_id = v.visit_id\n",
    "WHERE sf_log.lead_id__c = '00Q4G00001BPPN8UAP'--'00Q4G000019UYfAUAW'\n",
    "\"\"\"\n",
    "\n",
    "rendered_sql = Template(sql).render(leadsource_types=content_formatted)\n",
    "# print(rendered_sql)"
   ]
  },
  {
   "cell_type": "code",
   "execution_count": 6,
   "metadata": {},
   "outputs": [],
   "source": [
    "# TODO: Save out put as sql file to be run. "
   ]
  },
  {
   "cell_type": "code",
   "execution_count": 7,
   "metadata": {},
   "outputs": [],
   "source": [
    "with open('WIP_jinja.sql', 'w') as f:\n",
    "    f.write(rendered_sql)\n",
    "    #TODO change extension to sql.j2"
   ]
  },
  {
   "cell_type": "code",
   "execution_count": null,
   "metadata": {},
   "outputs": [],
   "source": []
  }
 ],
 "metadata": {
  "kernelspec": {
   "display_name": "Python 3",
   "language": "python",
   "name": "python3"
  },
  "language_info": {
   "codemirror_mode": {
    "name": "ipython",
    "version": 3
   },
   "file_extension": ".py",
   "mimetype": "text/x-python",
   "name": "python",
   "nbconvert_exporter": "python",
   "pygments_lexer": "ipython3",
   "version": "3.8.5"
  }
 },
 "nbformat": 4,
 "nbformat_minor": 4
}
