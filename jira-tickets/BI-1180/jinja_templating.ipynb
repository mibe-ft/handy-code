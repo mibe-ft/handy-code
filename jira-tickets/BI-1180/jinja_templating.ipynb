{
 "cells": [
  {
   "cell_type": "code",
   "execution_count": 1,
   "metadata": {},
   "outputs": [],
   "source": [
    "from jinja2 import Template"
   ]
  },
  {
   "cell_type": "code",
   "execution_count": 2,
   "metadata": {},
   "outputs": [],
   "source": [
    "file_adjusted_leadsource = 'adjusted_leadsource.txt'"
   ]
  },
  {
   "cell_type": "code",
   "execution_count": 3,
   "metadata": {},
   "outputs": [],
   "source": [
    "with open(file_adjusted_leadsource) as f:\n",
    "    content = f.readlines()"
   ]
  },
  {
   "cell_type": "code",
   "execution_count": 4,
   "metadata": {},
   "outputs": [],
   "source": [
    "content_formatted = []\n",
    "\n",
    "for line in content:\n",
    "#     remove new line\n",
    "    new_line = line.split(\"\\n\")\n",
    "    new_line.pop(-1)\n",
    "\n",
    "    for item in new_line:\n",
    "#         remove apostrophes and split by commas into two items\n",
    "       content_formatted.append(tuple([a.replace(\"'\",\"\") for a in item.split(\",\")]))"
   ]
  },
  {
   "cell_type": "code",
   "execution_count": 5,
   "metadata": {},
   "outputs": [
    {
     "name": "stdout",
     "output_type": "stream",
     "text": [
      "\n",
      "SELECT\n",
      "    CASE\n",
      "    WHEN leadsource::text = 'Build Batch'::character varying::text THEN 'Build Batch'::character varying\n",
      "    WHEN leadsource::text = 'Build Final'::character varying::text THEN 'Build Final'::character varying\n",
      "    WHEN leadsource::text = 'Client Source Batch'::character varying::text THEN 'Client Source Batch'::character varying\n",
      "    WHEN leadsource::text = 'Client Source Final'::character varying::text THEN 'Client Source Final'::character varying\n",
      "    WHEN leadsource::text = 'B2C-Individual Digital'::character varying::text THEN 'B2C-Individual Digital'::character varying\n",
      "    WHEN leadsource::text = 'Corporate'::character varying::text THEN 'Corporate'::character varying\n",
      "    WHEN leadsource::text = 'Registered'::character varying::text THEN 'Registered'::character varying\n",
      "    WHEN leadsource::text = 'Sales Inside'::character varying::text THEN 'Sales Inside'::character varying\n",
      "    WHEN leadsource::text = '2-9ers'::character varying::text THEN '2-9ers'::character varying\n",
      "    WHEN leadsource::text = 'Agency'::character varying::text THEN 'Agency'::character varying\n",
      "    WHEN leadsource::text = 'API Form'::character varying::text THEN 'API Form'::character varying\n",
      "    WHEN leadsource::text = 'Bloomberg Leads'::character varying::text THEN 'Bloomberg'::character varying\n",
      "    WHEN leadsource::text = 'Bloomberg Terminal'::character varying::text THEN 'Bloomberg'::character varying\n",
      "    WHEN leadsource::text = 'Channel Partner'::character varying::text THEN 'Channel Partner'::character varying\n",
      "    WHEN leadsource::text = 'Channel Referral'::character varying::text THEN 'Channel Referral'::character varying\n",
      "    WHEN leadsource::text = 'Contact sales form'::character varying::text THEN 'Contact sales form'::character varying\n",
      "    WHEN leadsource::text = 'Contact support form'::character varying::text THEN 'Contact support form'::character varying\n",
      "    WHEN leadsource::text = 'Contact Us Form'::character varying::text THEN 'Contact Us Form'::character varying\n",
      "    WHEN leadsource::text = 'Concurrency'::character varying::text THEN 'Copyright'::character varying\n",
      "    WHEN leadsource::text = 'Copyright'::character varying::text THEN 'Copyright'::character varying\n",
      "    WHEN leadsource::text = 'Email Forwarding'::character varying::text THEN 'Copyright'::character varying\n",
      "    WHEN leadsource::text = 'Generic Email Address'::character varying::text THEN 'Copyright'::character varying\n",
      "    WHEN leadsource::text = 'Overcopying'::character varying::text THEN 'Copyright'::character varying\n",
      "    WHEN leadsource::text = 'Corporate Blog Subscriber'::character varying::text THEN 'Corporate Blog Subscriber'::character varying\n",
      "    WHEN leadsource::text = 'Current Client'::character varying::text THEN 'Current Client'::character varying\n",
      "    WHEN leadsource::text = 'Customer Referral'::character varying::text THEN 'Customer Referral'::character varying\n",
      "    WHEN leadsource::text = 'Existing Client'::character varying::text THEN 'Customer Referral'::character varying\n",
      "    WHEN leadsource::text = 'Existing Customer'::character varying::text THEN 'Customer Referral'::character varying\n",
      "    WHEN leadsource::text = 'Case Study Download'::character varying::text THEN 'Document Download'::character varying\n",
      "    WHEN leadsource::text = 'Document Download'::character varying::text THEN 'Document Download'::character varying\n",
      "    WHEN leadsource::text = 'FTCorporate asset download'::character varying::text THEN 'Document Download'::character varying\n",
      "    WHEN leadsource::text = 'Email Enquiry'::character varying::text THEN 'Email Enquiry'::character varying\n",
      "    WHEN leadsource::text = 'Event'::character varying::text THEN 'Event'::character varying\n",
      "    WHEN leadsource::text = 'FT Event'::character varying::text THEN 'Event'::character varying\n",
      "    WHEN leadsource::text = 'Free Trial Form'::character varying::text THEN 'Free Trial Form'::character varying\n",
      "    WHEN leadsource::text = 'FT Confidential Research'::character varying::text THEN 'FT Confidential Research'::character varying\n",
      "    WHEN leadsource::text = 'FT Content'::character varying::text THEN 'FT Content'::character varying\n",
      "    WHEN leadsource::text = 'FT Dept Referral'::character varying::text THEN 'FT Dept Referral'::character varying\n",
      "    WHEN leadsource::text = 'FT Referral'::character varying::text THEN 'FT Referral'::character varying\n",
      "    WHEN leadsource::text = 'FT.com'::character varying::text THEN 'FT.com'::character varying\n",
      "    WHEN leadsource::text = 'Google Research'::character varying::text THEN 'Google Research'::character varying\n",
      "    WHEN leadsource::text = 'Telephone Research'::character varying::text THEN 'Google Research'::character varying\n",
      "    WHEN leadsource::text = 'Industry Contacts'::character varying::text THEN 'Industry Contacts'::character varying\n",
      "    WHEN leadsource::text = 'Lighthouse'::character varying::text THEN 'Lighthouse'::character varying\n",
      "    WHEN leadsource::text = 'Salesforce'::character varying::text THEN 'Lighthouse'::character varying\n",
      "    WHEN leadsource::text = 'Linkedin Ads'::character varying::text THEN 'LinkedIn Ads'::character varying\n",
      "    WHEN leadsource::text = 'LinkedIn Research'::character varying::text THEN 'LinkedIn Research'::character varying\n",
      "    WHEN leadsource::text = 'Linkedin Search'::character varying::text THEN 'LinkedIn Research'::character varying\n",
      "    WHEN leadsource::text = 'Manila'::character varying::text THEN 'Manila Research'::character varying\n",
      "    WHEN leadsource::text = 'Manila Reseach'::character varying::text THEN 'Manila Research'::character varying\n",
      "    WHEN leadsource::text = 'Manila Reseacrh'::character varying::text THEN 'Manila Research'::character varying\n",
      "    WHEN leadsource::text = 'Manila Research'::character varying::text THEN 'Manila Research'::character varying\n",
      "    WHEN leadsource::text = 'Phone Enquiry'::character varying::text THEN 'Phone Enquiry'::character varying\n",
      "    WHEN leadsource::text = 'Print Customer'::character varying::text THEN 'Print Customer'::character varying\n",
      "    WHEN leadsource::text = 'Secondary Schools'::character varying::text THEN 'Secondary Schools'::character varying\n",
      "    WHEN leadsource::text = 'Syndication Sales Plan'::character varying::text THEN 'Syndication'::character varying\n",
      "    WHEN leadsource::text = 'Telephone Prospecting'::character varying::text THEN 'Telephone Prospecting'::character varying\n",
      "    WHEN leadsource::text = 'List Research (Company)'::character varying::text THEN 'Third Party'::character varying\n",
      "    WHEN leadsource::text = 'Marketing/Third Party List'::character varying::text THEN 'Third Party'::character varying\n",
      "    WHEN leadsource::text = 'Merit Data'::character varying::text THEN 'Third Party'::character varying\n",
      "    WHEN leadsource::text = 'Merit Research'::character varying::text THEN 'Third Party'::character varying\n",
      "    WHEN leadsource::text = 'Scout'::character varying::text THEN 'Third Party'::character varying\n",
      "    WHEN leadsource::text = 'Third Party Data'::character varying::text THEN 'Third Party'::character varying\n",
      "    WHEN leadsource::text = 'Third Party List'::character varying::text THEN 'Third Party'::character varying\n",
      "    WHEN leadsource::text = 'Third Party Research'::character varying::text THEN 'Third Party'::character varying\n",
      "    WHEN leadsource::text = 'Default - Please update'::character varying::text THEN 'Unknown'::character varying\n",
      "    WHEN leadsource::text = 'Government Intelligence Digest'::character varying::text THEN 'Unknown'::character varying\n",
      "    WHEN leadsource::text = 'http://thefinlab.com/'::character varying::text THEN 'Unknown'::character varying\n",
      "    WHEN leadsource::text = 'Other'::character varying::text THEN 'Unknown'::character varying\n",
      "    WHEN leadsource::text = 'Republishing Africa'::character varying::text THEN 'Unknown'::character varying\n",
      "    WHEN leadsource::text = 'Restoring Client Trust Report'::character varying::text THEN 'Unknown'::character varying\n",
      "    WHEN leadsource::text = 'SFDC-IN|Financial Times News Feed'::character varying::text THEN 'Unknown'::character varying\n",
      "    WHEN leadsource::text = 'Unknown'::character varying::text THEN 'Unknown'::character varying\n",
      "    WHEN leadsource::text = 'Web chat'::character varying::text THEN 'Web Chat'::character varying\n",
      "    WHEN leadsource::text = 'Free Trial Request Form'::character varying::text THEN 'Free Trial Request Form'::character varying\n",
      "    WHEN leadsource::text = 'Internet Research'::character varying::text THEN 'Internet Research'::character varying\n",
      "    WHEN leadsource::text = 'Online Order Form'::character varying::text THEN 'Online Order Form'::character varying\n",
      "    WHEN leadsource::text = 'Sales Navigator'::character varying::text THEN 'Sales Navigator'::character varying \n",
      "        ELSE 'Unknown'\n",
      "        END AS adjusted_leadsource \n",
      "    , COUNT(leadsource) AS count_\n",
      "FROM ftsfdb.view_sfdc_leads sf_leads\n",
      "GROUP BY 1\n",
      "ORDER BY 1\n"
     ]
    }
   ],
   "source": [
    "sql = \"\"\"\n",
    "SELECT\n",
    "    CASE \n",
    "    {%- for k,v in leadsource_types %}\n",
    "    WHEN leadsource::text = '{{k}}'::character varying::text THEN '{{v}}'::character varying\n",
    "    {%- endfor %} \n",
    "        ELSE 'Unknown'\n",
    "        END AS adjusted_leadsource \n",
    "    , COUNT(leadsource) AS count_\n",
    "FROM ftsfdb.view_sfdc_leads sf_leads\n",
    "GROUP BY 1\n",
    "ORDER BY 1\n",
    "\"\"\"\n",
    "\n",
    "print(Template(sql).render(leadsource_types=content_formatted))"
   ]
  },
  {
   "cell_type": "code",
   "execution_count": null,
   "metadata": {},
   "outputs": [],
   "source": []
  }
 ],
 "metadata": {
  "kernelspec": {
   "display_name": "Python 3",
   "language": "python",
   "name": "python3"
  },
  "language_info": {
   "codemirror_mode": {
    "name": "ipython",
    "version": 3
   },
   "file_extension": ".py",
   "mimetype": "text/x-python",
   "name": "python",
   "nbconvert_exporter": "python",
   "pygments_lexer": "ipython3",
   "version": "3.8.5"
  }
 },
 "nbformat": 4,
 "nbformat_minor": 4
}
