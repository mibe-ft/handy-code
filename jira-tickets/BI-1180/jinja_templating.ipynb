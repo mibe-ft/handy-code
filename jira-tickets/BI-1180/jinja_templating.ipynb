{
 "cells": [
  {
   "cell_type": "code",
   "execution_count": 1,
   "metadata": {},
   "outputs": [],
   "source": [
    "from jinja2 import Template"
   ]
  },
  {
   "cell_type": "code",
   "execution_count": 2,
   "metadata": {},
   "outputs": [],
   "source": [
    "def create_tuples_from_txt_file(file):\n",
    "    with open(file) as f:\n",
    "        content = f.read().splitlines() #read in lines without \\n (newline character)\n",
    "    \n",
    "    content_formatted = []\n",
    "    for item in content:\n",
    "         #remove apostrophes and split by commas into two items\n",
    "        content_formatted.append(tuple([a.replace(\"'\",\"\") for a in item.split(\",\")]))\n",
    "    \n",
    "    content_formatted = [x if len(x)>1 else x[0] for x in content_formatted]\n",
    "    return content_formatted"
   ]
  },
  {
   "cell_type": "code",
   "execution_count": 3,
   "metadata": {
    "scrolled": true
   },
   "outputs": [],
   "source": [
    "with open('template.sql') as f:\n",
    "    sql = f.read()\n",
    "\n",
    "rendered_sql = Template(sql).render(leadsource_types=create_tuples_from_txt_file('adjusted_leadsource.txt')\n",
    "                                   , stage_names=create_tuples_from_txt_file('stage_name.txt')\n",
    "                                   , stage_numbers=create_tuples_from_txt_file('stage_number.txt')\n",
    "                                   , stage_name_2=create_tuples_from_txt_file('stage_name_2.txt')\n",
    "                                   , stage_name_3=create_tuples_from_txt_file('stage_name_2.txt')[:-2])"
   ]
  },
  {
   "cell_type": "code",
   "execution_count": 4,
   "metadata": {},
   "outputs": [],
   "source": [
    "# print(rendered_sql)"
   ]
  },
  {
   "cell_type": "code",
   "execution_count": 5,
   "metadata": {},
   "outputs": [],
   "source": [
    "with open('WIP_jinja.sql', 'w') as f:\n",
    "    f.write(rendered_sql)\n",
    "    #TODO change extension to sql.j2"
   ]
  },
  {
   "cell_type": "code",
   "execution_count": null,
   "metadata": {},
   "outputs": [],
   "source": []
  }
 ],
 "metadata": {
  "kernelspec": {
   "display_name": "Python 3",
   "language": "python",
   "name": "python3"
  },
  "language_info": {
   "codemirror_mode": {
    "name": "ipython",
    "version": 3
   },
   "file_extension": ".py",
   "mimetype": "text/x-python",
   "name": "python",
   "nbconvert_exporter": "python",
   "pygments_lexer": "ipython3",
   "version": "3.8.5"
  }
 },
 "nbformat": 4,
 "nbformat_minor": 4
}
