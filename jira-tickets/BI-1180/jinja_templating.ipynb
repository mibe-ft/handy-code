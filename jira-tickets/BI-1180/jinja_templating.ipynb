{
 "cells": [
  {
   "cell_type": "code",
   "execution_count": 24,
   "metadata": {},
   "outputs": [],
   "source": [
    "file_adjusted_leadsource = 'adjusted_leadsource.txt'"
   ]
  },
  {
   "cell_type": "code",
   "execution_count": 25,
   "metadata": {},
   "outputs": [],
   "source": [
    "with open(file_adjusted_leadsource) as f:\n",
    "    content = f.readlines()"
   ]
  },
  {
   "cell_type": "code",
   "execution_count": 26,
   "metadata": {},
   "outputs": [
    {
     "data": {
      "text/plain": [
       "[\"'Build Batch','Build Batch'\\n\",\n",
       " \"'Build Final','Build Final'\\n\",\n",
       " \"'Client Source Batch','Client Source Batch'\\n\",\n",
       " \"'Client Source Final','Client Source Final'\\n\"]"
      ]
     },
     "execution_count": 26,
     "metadata": {},
     "output_type": "execute_result"
    }
   ],
   "source": [
    "content[:4]"
   ]
  },
  {
   "cell_type": "code",
   "execution_count": 37,
   "metadata": {},
   "outputs": [
    {
     "name": "stdout",
     "output_type": "stream",
     "text": [
      "[\"'Build Batch','Build Batch'\"]\n",
      "(\"'Build Batch'\", \"'Build Batch'\")\n",
      "______\n",
      "[\"'Build Final','Build Final'\"]\n",
      "(\"'Build Final'\", \"'Build Final'\")\n",
      "______\n",
      "[\"'Client Source Batch','Client Source Batch'\"]\n",
      "(\"'Client Source Batch'\", \"'Client Source Batch'\")\n",
      "______\n",
      "[\"'Client Source Final','Client Source Final'\"]\n",
      "(\"'Client Source Final'\", \"'Client Source Final'\")\n",
      "______\n"
     ]
    }
   ],
   "source": [
    "# remove new line\n",
    "for line in content[:4]:\n",
    "    new_line = line.split(\"\\n\")\n",
    "    new_line.pop(-1)\n",
    "    print(new_line)\n",
    "#     print(\"-----\")\n",
    "\n",
    "#     print(type(new_line))\n",
    "    for item in new_line:\n",
    "        a = tuple(item.split(\",\"))\n",
    "        print(a)\n",
    "    \n",
    "    print('______')"
   ]
  },
  {
   "cell_type": "code",
   "execution_count": null,
   "metadata": {},
   "outputs": [],
   "source": []
  }
 ],
 "metadata": {
  "kernelspec": {
   "display_name": "Python 3",
   "language": "python",
   "name": "python3"
  },
  "language_info": {
   "codemirror_mode": {
    "name": "ipython",
    "version": 3
   },
   "file_extension": ".py",
   "mimetype": "text/x-python",
   "name": "python",
   "nbconvert_exporter": "python",
   "pygments_lexer": "ipython3",
   "version": "3.8.5"
  }
 },
 "nbformat": 4,
 "nbformat_minor": 4
}
